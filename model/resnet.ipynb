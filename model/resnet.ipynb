{
 "cells": [
  {
   "cell_type": "code",
   "execution_count": 11,
   "id": "09a55467-dbb1-4bd0-a496-59c87a81f0cd",
   "metadata": {},
   "outputs": [],
   "source": [
    "import numpy as np # linear algebra\n",
    "import pandas as pd # data processing, CSV file I/O (e.g. pd.read_csv)\n",
    "\n",
    "import os"
   ]
  },
  {
   "cell_type": "code",
   "execution_count": 12,
   "id": "f0fed7ed-0ed9-4782-bc3f-2da7552fc6a0",
   "metadata": {},
   "outputs": [],
   "source": [
    "# Imports\n",
    "import os\n",
    "import cv2\n",
    "import numpy as np\n",
    "import matplotlib.pyplot as plt\n",
    "import seaborn as sns\n",
    "\n",
    "import torch\n",
    "import torch.nn as nn\n",
    "import torch.optim as optim\n",
    "from torch.utils.data import Dataset, DataLoader\n",
    "from torchvision import transforms\n",
    "\n",
    "from sklearn.metrics import classification_report, confusion_matrix\n",
    "\n",
    "# Constants\n",
    "# Replace with the actual path to your dataset\n",
    "data_dir = 'chest_xray/chest_xray/'\n",
    "labels = ['PNEUMONIA', 'NORMAL']\n",
    "img_size = 64\n",
    "num_epochs = 3\n",
    "batch_size = 32"
   ]
  },
  {
   "cell_type": "code",
   "execution_count": 13,
   "id": "af1ab169-d9da-411d-a29f-f499c823626d",
   "metadata": {},
   "outputs": [
    {
     "name": "stdout",
     "output_type": "stream",
     "text": [
      "Training data size: 5216\n",
      "Validation data size: 16\n",
      "Test data size: 624\n"
     ]
    }
   ],
   "source": [
    "def get_data(data_dir):\n",
    "    data = []\n",
    "    for label in labels:\n",
    "        path = os.path.join(data_dir, label)\n",
    "        class_num = labels.index(label)\n",
    "        for img in os.listdir(path):\n",
    "            try:\n",
    "                img_path = os.path.join(path, img)\n",
    "                img_arr = cv2.imread(img_path, cv2.IMREAD_GRAYSCALE)\n",
    "                if img_arr is not None:\n",
    "                    resized_arr = cv2.resize(img_arr, (img_size, img_size))\n",
    "                    data.append([resized_arr, class_num])\n",
    "            except Exception as e:\n",
    "                print(e)\n",
    "    return np.array(data, dtype=object)\n",
    "\n",
    "# Load the data for train, val, and test splits\n",
    "train_dir = os.path.join(data_dir, 'train')\n",
    "val_dir = os.path.join(data_dir, 'val')\n",
    "test_dir = os.path.join(data_dir, 'test')\n",
    "\n",
    "train_data = get_data(train_dir)\n",
    "val_data = get_data(val_dir)\n",
    "test_data = get_data(test_dir)\n",
    "\n",
    "print(f\"Training data size: {len(train_data)}\")\n",
    "print(f\"Validation data size: {len(val_data)}\")\n",
    "print(f\"Test data size: {len(test_data)}\")"
   ]
  },
  {
   "cell_type": "code",
   "execution_count": 14,
   "id": "07bf0c9c-0eb4-42b2-b523-df12409789b4",
   "metadata": {},
   "outputs": [],
   "source": [
    "class ChestXrayDataset(Dataset):\n",
    "    def __init__(self, data, transform=None):\n",
    "        self.data = data\n",
    "        self.transform = transform\n",
    "        \n",
    "    def __len__(self):\n",
    "        return len(self.data)\n",
    "    \n",
    "    def __getitem__(self, idx):\n",
    "        image, label = self.data[idx]\n",
    "        image = np.array(image, dtype=np.uint8)\n",
    "        \n",
    "        if image.ndim == 2:\n",
    "            image = np.expand_dims(image, axis=-1)\n",
    "        \n",
    "        if self.transform:\n",
    "            image = self.transform(image)\n",
    "        return image, label\n",
    "\n",
    "# REFINED TRANSFORMS to combat overfitting\n",
    "train_transforms = transforms.Compose([\n",
    "    transforms.ToPILImage(),\n",
    "    transforms.Grayscale(num_output_channels=3),  # <--- ADD THIS\n",
    "    transforms.RandomRotation(30, fill=0),\n",
    "    transforms.RandomHorizontalFlip(),\n",
    "    transforms.RandomResizedCrop(img_size, scale=(0.8, 1.0)),\n",
    "    transforms.ColorJitter(brightness=0.2, contrast=0.2),\n",
    "    transforms.ToTensor(),\n",
    "    transforms.Normalize(mean=[0.5, 0.5, 0.5], std=[0.5, 0.5, 0.5])  # 3-channel normalization\n",
    "])\n",
    "\n",
    "\n",
    "val_transforms = transforms.Compose([\n",
    "    transforms.ToPILImage(),\n",
    "    transforms.Resize((img_size, img_size)),\n",
    "    transforms.Grayscale(num_output_channels=3),\n",
    "    transforms.ToTensor(),\n",
    "    transforms.Normalize(mean=[0.5], std=[0.5])\n",
    "])\n",
    "\n",
    "# Create Dataset and DataLoader instances\n",
    "train_dataset = ChestXrayDataset(train_data, transform=train_transforms)\n",
    "val_dataset = ChestXrayDataset(val_data, transform=val_transforms)\n",
    "test_dataset = ChestXrayDataset(test_data, transform=val_transforms)\n",
    "\n",
    "train_loader = DataLoader(train_dataset, batch_size=batch_size, shuffle=True)\n",
    "val_loader = DataLoader(val_dataset, batch_size=batch_size, shuffle=False)\n",
    "test_loader = DataLoader(test_dataset, batch_size=batch_size, shuffle=False)\n"
   ]
  },
  {
   "cell_type": "code",
   "execution_count": 15,
   "id": "20038a67-421e-46c3-9048-844b1c935ee4",
   "metadata": {},
   "outputs": [
    {
     "name": "stdout",
     "output_type": "stream",
     "text": [
      "Epoch [1/3], Train Loss: 0.3974, Train Accuracy: 82.48%, Val Loss: 0.6870, Val Accuracy: 56.25%\n",
      "Epoch [2/3], Train Loss: 0.3315, Train Accuracy: 85.68%, Val Loss: 0.6397, Val Accuracy: 62.50%\n",
      "Epoch [3/3], Train Loss: 0.3246, Train Accuracy: 86.16%, Val Loss: 0.6071, Val Accuracy: 68.75%\n",
      "✅ Training complete with ResNet18 transfer learning\n"
     ]
    }
   ],
   "source": [
    "import torch\n",
    "import torch.nn as nn\n",
    "import torch.optim as optim\n",
    "from torchvision import models\n",
    "\n",
    "# ======================\n",
    "# 1. Load Pretrained ResNet18\n",
    "# ======================\n",
    "device = torch.device(\"cuda\" if torch.cuda.is_available() else \"cpu\")\n",
    "\n",
    "resnet18 = models.resnet18(pretrained=True)\n",
    "\n",
    "# Freeze all convolutional layers (like TF `layer.trainable=False`)\n",
    "for param in resnet18.parameters():\n",
    "    param.requires_grad = False\n",
    "\n",
    "# Replace the final fully connected layer\n",
    "# TF: GAP -> Dense(128, relu) -> Dense(1, sigmoid)\n",
    "resnet18.fc = nn.Sequential(\n",
    "    nn.Linear(resnet18.fc.in_features, 128),\n",
    "    nn.ReLU(),\n",
    "    nn.Dropout(0.3),\n",
    "    nn.Linear(128, 1),   # Binary classification\n",
    "    nn.Sigmoid()         # Same as TF `activation='sigmoid'`\n",
    ")\n",
    "\n",
    "model = resnet18.to(device)\n",
    "\n",
    "# ======================\n",
    "# 2. Loss & Optimizer\n",
    "# ======================\n",
    "criterion = nn.BCELoss()  # Since we already applied Sigmoid in the model\n",
    "optimizer = optim.Adam(model.fc.parameters(), lr=0.001)\n",
    "\n",
    "# ======================\n",
    "# 3. Training Loop (simplified)\n",
    "# ======================\n",
    "num_epochs = 3\n",
    "train_loss_history = []\n",
    "train_acc_history = []\n",
    "val_loss_history = []\n",
    "val_acc_history = []\n",
    "\n",
    "for epoch in range(num_epochs):\n",
    "    model.train()\n",
    "    running_loss, correct, total = 0, 0, 0\n",
    "\n",
    "    for images, labels in train_loader:\n",
    "        images, labels = images.to(device), labels.to(device).float().unsqueeze(1)\n",
    "\n",
    "        optimizer.zero_grad()\n",
    "        outputs = model(images)\n",
    "        loss = criterion(outputs, labels)\n",
    "        loss.backward()\n",
    "        optimizer.step()\n",
    "\n",
    "        running_loss += loss.item()\n",
    "        preds = (outputs > 0.5).float()\n",
    "        correct += (preds == labels).sum().item()\n",
    "        total += labels.size(0)\n",
    "\n",
    "    train_loss = running_loss / len(train_loader)\n",
    "    train_acc = 100 * correct / total\n",
    "    train_loss_history.append(train_loss)\n",
    "    train_acc_history.append(train_acc)\n",
    "\n",
    "    # Validation loop\n",
    "    model.eval()\n",
    "    running_val_loss, correct_val, total_val = 0, 0, 0\n",
    "    with torch.no_grad():\n",
    "        for images, labels in val_loader:\n",
    "            images, labels = images.to(device), labels.to(device).float().unsqueeze(1)\n",
    "            outputs = model(images)\n",
    "            loss = criterion(outputs, labels)\n",
    "            running_val_loss += loss.item()\n",
    "            preds = (outputs > 0.5).float()\n",
    "            correct_val += (preds == labels).sum().item()\n",
    "            total_val += labels.size(0)\n",
    "\n",
    "    val_loss = running_val_loss / len(val_loader)\n",
    "    val_acc = 100 * correct_val / total_val\n",
    "    val_loss_history.append(val_loss)\n",
    "    val_acc_history.append(val_acc)\n",
    "\n",
    "\n",
    "    print(f\"Epoch [{epoch+1}/{num_epochs}], Train Loss: {train_loss:.4f}, Train Accuracy: {train_acc:.2f}%, Val Loss: {val_loss:.4f}, Val Accuracy: {val_acc:.2f}%\")\n",
    "\n",
    "\n",
    "print(\"✅ Training complete with ResNet18 transfer learning\")"
   ]
  },
  {
   "cell_type": "code",
   "execution_count": 16,
   "id": "9acd8f88-2c5f-4980-908c-edb7c158091d",
   "metadata": {},
   "outputs": [
    {
     "name": "stdout",
     "output_type": "stream",
     "text": [
      "              precision    recall  f1-score   support\n",
      "\n",
      "   PNEUMONIA       0.83      0.83      0.83       390\n",
      "      NORMAL       0.71      0.72      0.71       234\n",
      "\n",
      "    accuracy                           0.79       624\n",
      "   macro avg       0.77      0.77      0.77       624\n",
      "weighted avg       0.79      0.79      0.79       624\n",
      "\n",
      "Confusion Matrix:\n",
      " [[322  68]\n",
      " [ 66 168]]\n"
     ]
    }
   ],
   "source": [
    "# Initial correct definition of labels\n",
    "class_names = ['PNEUMONIA', 'NORMAL']\n",
    "\n",
    "model.eval()\n",
    "y_true, y_pred = [], []\n",
    "with torch.no_grad():\n",
    "    # Rename the loop variable to avoid overwriting the class_names variable\n",
    "    for images, batch_labels in test_loader:\n",
    "        images = images.to(device, dtype=torch.float)\n",
    "        batch_labels = batch_labels.to(device)\n",
    "        outputs = model(images)\n",
    "        preds = (outputs > 0.5).float().cpu().numpy()\n",
    "        y_true.extend(batch_labels.cpu().numpy())\n",
    "        y_pred.extend(preds)\n",
    "\n",
    "# Use the correctly named variable for the report\n",
    "print(classification_report(y_true, y_pred, target_names=class_names))\n",
    "print(\"Confusion Matrix:\\n\", confusion_matrix(y_true, y_pred))"
   ]
  },
  {
   "cell_type": "code",
   "execution_count": 17,
   "id": "5181a7eb-2963-44bb-a263-7cf05d9d5bc8",
   "metadata": {},
   "outputs": [
    {
     "data": {
      "image/png": "[encoded data removed]",
      "text/plain": [
       "<Figure size 1500x600 with 2 Axes>"
      ]
     },
     "metadata": {},
     "output_type": "display_data"
    }
   ],
   "source": [
    "epochs = range(1, len(train_acc_history) + 1)\n",
    "\n",
    "fig, ax = plt.subplots(1, 2, figsize=(15, 6))\n",
    "\n",
    "ax[0].plot(epochs, train_acc_history, 'go-', label='Train Acc')\n",
    "ax[0].plot(epochs, val_acc_history, 'ro-', label='Val Acc')\n",
    "ax[0].set_title(\"Training & Validation Accuracy\")\n",
    "ax[0].legend()\n",
    "\n",
    "ax[1].plot(epochs, train_loss_history, 'go-', label='Train Loss')\n",
    "ax[1].plot(epochs, val_loss_history, 'ro-', label='Val Loss')\n",
    "ax[1].set_title(\"Training & Validation Loss\")\n",
    "ax[1].legend()\n",
    "\n",
    "plt.show()"
   ]
  },
  {
   "cell_type": "code",
   "execution_count": 18,
   "id": "17f00dd4-e183-4348-b63d-6c39da676e58",
   "metadata": {},
   "outputs": [
    {
     "name": "stdout",
     "output_type": "stream",
     "text": [
      "{'0': {'precision': 0.8298969072164949, 'recall': 0.8256410256410256, 'f1-score': 0.8277634961439588, 'support': 390.0}, '1': {'precision': 0.711864406779661, 'recall': 0.717948717948718, 'f1-score': 0.7148936170212766, 'support': 234.0}, 'accuracy': 0.7852564102564102, 'macro avg': {'precision': 0.770880656998078, 'recall': 0.7717948717948717, 'f1-score': 0.7713285565826178, 'support': 624.0}, 'weighted avg': {'precision': 0.785634719552682, 'recall': 0.7852564102564102, 'f1-score': 0.7854372914729529, 'support': 624.0}}\n"
     ]
    }
   ],
   "source": [
    "from sklearn.metrics import classification_report\n",
    "\n",
    "report_dict = classification_report(y_true, y_pred, output_dict=True)\n",
    "\n",
    "print(report_dict)\n"
   ]
  },
  {
   "cell_type": "code",
   "execution_count": 23,
   "id": "4de84cb6-311b-4e24-af88-46ff01b1c10b",
   "metadata": {},
   "outputs": [
    {
     "name": "stderr",
     "output_type": "stream",
     "text": [
      "2025/09/23 22:50:35 WARNING mlflow.models.model: `artifact_path` is deprecated. Please use `name` instead.\n"
     ]
    },
    {
     "name": "stdout",
     "output_type": "stream",
     "text": [
      "Classification Report:\n",
      "               precision    recall  f1-score   support\n",
      "\n",
      "   PNEUMONIA       0.83      0.83      0.83       390\n",
      "      NORMAL       0.71      0.72      0.71       234\n",
      "\n",
      "    accuracy                           0.79       624\n",
      "   macro avg       0.77      0.77      0.77       624\n",
      "weighted avg       0.79      0.79      0.79       624\n",
      "\n",
      "Confusion Matrix:\n",
      " [[322  68]\n",
      " [ 66 168]]\n"
     ]
    },
    {
     "name": "stderr",
     "output_type": "stream",
     "text": [
      "\u001b[31m2025/09/23 22:50:41 WARNING mlflow.models.model: Model logged without a signature and input example. Please set `input_example` parameter when logging the model to auto infer the model signature.\u001b[0m\n"
     ]
    },
    {
     "name": "stdout",
     "output_type": "stream",
     "text": [
      "🏃 View run welcoming-snipe-588 at: http://127.0.0.1:8000/#/experiments/913000521377215982/runs/7b07936568b14f7ab38fbd9339adddbf\n",
      "🧪 View experiment at: http://127.0.0.1:8000/#/experiments/913000521377215982\n",
      "✅ MLflow logging complete\n"
     ]
    }
   ],
   "source": [
    "import mlflow\n",
    "import mlflow.pytorch\n",
    "from sklearn.metrics import classification_report, confusion_matrix\n",
    "import numpy as np\n",
    "\n",
    "# ===============================\n",
    "# 1. Generate predictions\n",
    "# ===============================\n",
    "model.eval()\n",
    "y_true, y_pred = [], []\n",
    "\n",
    "with torch.no_grad():\n",
    "    for images, labels in test_loader:\n",
    "        images, labels = images.to(device), labels.to(device)\n",
    "        outputs = model(images)\n",
    "        preds = (outputs > 0.5).int()  # convert predictions to integers\n",
    "        y_true.extend(labels.cpu().numpy().astype(int))\n",
    "        y_pred.extend(preds.cpu().numpy().flatten().astype(int))\n",
    "\n",
    "y_true = np.array(y_true)\n",
    "y_pred = np.array(y_pred)\n",
    "\n",
    "# ===============================\n",
    "# 2. Classification report\n",
    "# ===============================\n",
    "class_names = ['PNEUMONIA', 'NORMAL']  # adjust to your dataset\n",
    "report_dict = classification_report(y_true, y_pred, target_names=class_names, output_dict=True)\n",
    "print(\"Classification Report:\\n\", classification_report(y_true, y_pred, target_names=class_names))\n",
    "print(\"Confusion Matrix:\\n\", confusion_matrix(y_true, y_pred))\n",
    "\n",
    "# ===============================\n",
    "# 3. MLflow Logging\n",
    "# ===============================\n",
    "mlflow.set_tracking_uri(\"http://127.0.0.1:8000/\")\n",
    "mlflow.set_experiment(\"resnet\")\n",
    "\n",
    "params = {\"epochs\": 3, \"batch_size\": 32, \"optimizer\": \"Adam\"}\n",
    "\n",
    "with mlflow.start_run():\n",
    "    mlflow.log_params(params)\n",
    "\n",
    "    # log metrics for each class and macro\n",
    "    for i, cls in enumerate(class_names):\n",
    "        mlflow.log_metric(f\"recall_{cls}\", report_dict[cls]['recall'])\n",
    "        mlflow.log_metric(f\"precision_{cls}\", report_dict[cls]['precision'])\n",
    "        mlflow.log_metric(f\"f1_{cls}\", report_dict[cls]['f1-score'])\n",
    "\n",
    "    # log overall metrics\n",
    "    mlflow.log_metric(\"accuracy\", report_dict[\"accuracy\"])\n",
    "    mlflow.log_metric(\"f1_score_macro\", report_dict[\"macro avg\"][\"f1-score\"])\n",
    "    mlflow.log_metric(\"precision_macro\", report_dict[\"macro avg\"][\"precision\"])\n",
    "    mlflow.log_metric(\"recall_macro\", report_dict[\"macro avg\"][\"recall\"])\n",
    "\n",
    "    # log the PyTorch model\n",
    "    mlflow.pytorch.log_model(model, \"resnet_model\")\n",
    "\n",
    "print(\"✅ MLflow logging complete\")\n"
   ]
  },
  {
   "cell_type": "code",
   "execution_count": null,
   "id": "528b6dca-7eae-4c0a-bc4a-7b9ab3d13ff0",
   "metadata": {},
   "outputs": [],
   "source": []
  }
 ],
 "metadata": {
  "kernelspec": {
   "display_name": "Python [conda env:base] *",
   "language": "python",
   "name": "conda-base-py"
  },
  "language_info": {
   "codemirror_mode": {
    "name": "ipython",
    "version": 3
   },
   "file_extension": ".py",
   "mimetype": "text/x-python",
   "name": "python",
   "nbconvert_exporter": "python",
   "pygments_lexer": "ipython3",
   "version": "3.12.2"
  }
 },
 "nbformat": 4,
 "nbformat_minor": 5
}
